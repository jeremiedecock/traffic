{
 "cells": [
  {
   "cell_type": "markdown",
   "metadata": {},
   "source": [
    "## TODO\n",
    "\n",
    "- [ ] make as many subplots as there are data per day\n",
    "- [ ] interactive plot where user can choose:\n",
    "    - [ ] the day to plot: \"Monday\", \"Tuesday\", ..., \"All\"\n",
    "    - [ ] how to aggregate data: \"no aggregation\", \"mean (+ std ?)\", \"mean + quantiles (quartiles or deciles)\""
   ]
  },
  {
   "cell_type": "code",
   "execution_count": null,
   "metadata": {},
   "outputs": [],
   "source": [
    "%matplotlib notebook\n",
    "import os\n",
    "import pandas as pd"
   ]
  },
  {
   "cell_type": "code",
   "execution_count": null,
   "metadata": {},
   "outputs": [],
   "source": [
    "def data_files_in_dir(directory_path):\n",
    "    \"\"\"Return the path of CSV files in `directory_path`.\n",
    "\n",
    "    Return the path of all (or `max_num_files`) files having the extension\n",
    "    \".simtel\", \".simtel.gz\", \".fits\" or \".fit\" in `directory_path`.\n",
    "\n",
    "    Parameters\n",
    "    ----------\n",
    "    directory_path : str\n",
    "        The directory's path where CSV files are searched.\n",
    "\n",
    "    Yields\n",
    "    ------\n",
    "    str\n",
    "        The path of the next CSV file in `directory_path`.\n",
    "    \"\"\"\n",
    "\n",
    "    FILE_EXT = (\".csv\", )\n",
    "    directory_path = os.path.expanduser(directory_path)\n",
    "\n",
    "    for file_name in os.listdir(directory_path):\n",
    "        file_path = os.path.join(directory_path, file_name)\n",
    "        if os.path.isfile(file_path) and file_name.lower().endswith(FILE_EXT):\n",
    "            yield file_path"
   ]
  },
  {
   "cell_type": "code",
   "execution_count": null,
   "metadata": {},
   "outputs": [],
   "source": [
    "file_path_list = data_files_in_dir(\"data\")\n",
    "\n",
    "\n",
    "# https://machinelearningmastery.com/load-explore-time-series-data-python/\n",
    "#    header=0: We must specify the header information at row 0.\n",
    "#    parse_dates=[0]: We give the function a hint that data in the first column contains dates that need to be parsed. This argument takes a list, so we provide it a list of one element, which is the index of the first column.\n",
    "#    index_col=0: We hint that the first column contains the index information for the time series.\n",
    "#    squeeze=True: We hint that we only have one data column and that we are interested in a Series and not a DataFrame.\n",
    "\n",
    "\n",
    "# \"squeeze=True\" is used to return a TimeSeries (instead a DataFrame with only one column) ; see http://pandas.pydata.org/pandas-docs/version/0.22/generated/pandas.Series.from_csv.html\n",
    "ts = pd.concat((pd.read_csv(file_path, index_col=0, parse_dates=[0], squeeze=True) for file_path in file_path_list))\n",
    "print(ts)"
   ]
  },
  {
   "cell_type": "code",
   "execution_count": null,
   "metadata": {},
   "outputs": [],
   "source": [
    "ax = ts.plot(y='duration', figsize=(14, 7))\n",
    "ax.set_xlabel('Time')\n",
    "ax.set_ylabel('Trip duration (mn)');\n",
    "\n",
    "## TODO: save figure in a png file ?"
   ]
  },
  {
   "cell_type": "code",
   "execution_count": null,
   "metadata": {},
   "outputs": [],
   "source": [
    "ts.index"
   ]
  },
  {
   "cell_type": "code",
   "execution_count": null,
   "metadata": {},
   "outputs": [],
   "source": [
    "ts.resample('1B').mean().plot()"
   ]
  },
  {
   "cell_type": "code",
   "execution_count": null,
   "metadata": {},
   "outputs": [],
   "source": [
    "ts2 = ts.resample('1min', kind='period').mean()"
   ]
  },
  {
   "cell_type": "code",
   "execution_count": null,
   "metadata": {},
   "outputs": [],
   "source": [
    "ts2.index"
   ]
  },
  {
   "cell_type": "code",
   "execution_count": null,
   "metadata": {},
   "outputs": [],
   "source": [
    "# https://stackoverflow.com/questions/16266019/python-pandas-group-datetime-column-into-hour-and-minute-aggregations\n",
    "\n",
    "#ts2.groupby([ts2.index.hour, ts2.index.minute]).mean()"
   ]
  },
  {
   "cell_type": "code",
   "execution_count": null,
   "metadata": {},
   "outputs": [],
   "source": [
    "# https://jakevdp.github.io/PythonDataScienceHandbook/03.11-working-with-time-series.html#Digging-into-the-data\n",
    "\n",
    "ax = ts2.groupby(ts2.index.start_time.time).mean().plot(y='duration', figsize=(18, 12), color=\"red\")\n",
    "ts2.groupby(ts2.index.start_time.time).median().plot(ax=ax, color=\"green\")\n",
    "ts2.groupby(ts2.index.start_time.time).quantile(0.25).plot(ax=ax, color=\"blue\", alpha=0.75, style=\"--\")\n",
    "ts2.groupby(ts2.index.start_time.time).quantile(0.75).plot(ax=ax, color=\"blue\", alpha=0.75, style=\"--\")\n",
    "ts2.groupby(ts2.index.start_time.time).quantile(0.95).plot(ax=ax, color=\"blue\", alpha=0.5, style=\":\")\n",
    "ts2.groupby(ts2.index.start_time.time).quantile(0.05).plot(ax=ax, color=\"blue\", alpha=0.5, style=\":\")\n",
    "\n",
    "ax.set_xlabel('Time')\n",
    "ax.set_ylabel('Trip duration (mn)');"
   ]
  },
  {
   "cell_type": "code",
   "execution_count": null,
   "metadata": {},
   "outputs": [],
   "source": [
    "pd.DataFrame(ts2.index.start_time.time)"
   ]
  }
 ],
 "metadata": {
  "kernelspec": {
   "display_name": "Python 3",
   "language": "python",
   "name": "python3"
  },
  "language_info": {
   "codemirror_mode": {
    "name": "ipython",
    "version": 3
   },
   "file_extension": ".py",
   "mimetype": "text/x-python",
   "name": "python",
   "nbconvert_exporter": "python",
   "pygments_lexer": "ipython3",
   "version": "3.6.5"
  }
 },
 "nbformat": 4,
 "nbformat_minor": 2
}
